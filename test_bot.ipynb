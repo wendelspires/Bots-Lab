{
 "cells": [
  {
   "cell_type": "code",
   "execution_count": 1,
   "metadata": {},
   "outputs": [],
   "source": [
    "import botslib.bots_api as ba\n",
    "import json\n",
    "\n",
    "bots_plataform = ba.BEM_API('https://signal.revenyou.io/paper/api/signal/v2/')"
   ]
  },
  {
   "cell_type": "code",
   "execution_count": 2,
   "metadata": {},
   "outputs": [],
   "source": [
    "eth_order = ba.OrderParameters(signalProvider=\"Double Soldiers\",\n",
    "                                signalProviderKey=\"ZGTFDCT4LAAPJTBA\",\n",
    "                                baseAsset='ETH',\n",
    "                                quoteAsset='USDT',\n",
    "                                exchange='binance')\n",
    "                                "
   ]
  },
  {
   "cell_type": "code",
   "execution_count": 41,
   "metadata": {},
   "outputs": [
    {
     "data": {
      "text/plain": [
       "'{\"baseAsset\":\"ETH\",\"creationTs\":\"2022-03-24 23:38:13\",\"exchange\":\"binance\",\"extId\":\"test\",\"isBeingCanceled\":\"no\",\"lastChangeTs\":\"2022-03-24 23:38:14\",\"limitPrice\":\"2500\",\"orderId\":\"bem-bot-623cdd63258e366d0a0debf3-1648165093-0001-294804235\",\"priceAvgExec\":\"0\",\"qtyExecPct\":\"0\",\"qtyPct\":\"1\",\"quoteAsset\":\"USDT\",\"side\":\"buy\",\"signalProvider\":\"Double Soldiers\",\"status\":\"acceptedByExch\",\"success\":true,\"ttlSecs\":0,\"ttlType\":\"gtc\",\"type\":\"limit\"}'"
      ]
     },
     "execution_count": 41,
     "metadata": {},
     "output_type": "execute_result"
    }
   ],
   "source": [
    "eth_order.side=\"buy\"\n",
    "eth_order.limitPrice=\"2500\"\n",
    "eth_order.qtyPct=\"1\"\n",
    "#eth_order.extId=\"test\"\n",
    "\n",
    "bots_plataform.placeOrder(eth_order)\n"
   ]
  },
  {
   "cell_type": "code",
   "execution_count": 42,
   "metadata": {},
   "outputs": [
    {
     "data": {
      "text/plain": [
       "'{\"isBeingCanceled\":\"no\",\"orderId\":\"bem-bot-623cdd63258e366d0a0debf3-1648165093-0001-294804235\",\"status\":\"acceptedByExch\",\"success\":true}'"
      ]
     },
     "execution_count": 42,
     "metadata": {},
     "output_type": "execute_result"
    }
   ],
   "source": [
    "#Status of order\n",
    "\n",
    "state_request = ba.OrderStateRequest(signalProvider=\"Double Soldiers\", signalProviderKey=\"ZGTFDCT4LAAPJTBA\")\n",
    "state_request.extId = \"test\"\n",
    "\n",
    "bots_plataform.getOrderState(state_request)"
   ]
  },
  {
   "cell_type": "code",
   "execution_count": 45,
   "metadata": {},
   "outputs": [
    {
     "data": {
      "text/plain": [
       "'{\"baseAsset\":\"ETH\",\"creationTs\":\"2022-03-24 23:38:13\",\"exchange\":\"binance\",\"extId\":\"test\",\"isBeingCanceled\":\"no\",\"lastChangeTs\":\"2022-03-24 23:41:49\",\"limitPrice\":\"2500\",\"orderId\":\"bem-bot-623cdd63258e366d0a0debf3-1648165093-0001-294804235\",\"priceAvgExec\":\"0\",\"qtyExecPct\":\"0\",\"qtyPct\":\"1\",\"quoteAsset\":\"USDT\",\"side\":\"buy\",\"signalProvider\":\"Double Soldiers\",\"status\":\"fullyCanceled\",\"success\":true,\"ttlSecs\":0,\"ttlType\":\"gtc\",\"type\":\"limit\"}'"
      ]
     },
     "execution_count": 45,
     "metadata": {},
     "output_type": "execute_result"
    }
   ],
   "source": [
    "#Info of order\n",
    "info_request = ba.OrderInfoRequest(signalProvider='Double Soldiers',signalProviderKey='ZGTFDCT4LAAPJTBA')\n",
    "\n",
    "info_request.extId = 'test'\n",
    "bots_plataform.getOrderInfo(info_request)"
   ]
  },
  {
   "cell_type": "code",
   "execution_count": 44,
   "metadata": {},
   "outputs": [
    {
     "data": {
      "text/plain": [
       "'{\"success\":true}'"
      ]
     },
     "execution_count": 44,
     "metadata": {},
     "output_type": "execute_result"
    }
   ],
   "source": [
    "#Cancel the order\n",
    "\n",
    "cancel_request = ba.CancelOrderParameters(signalProvider='Double Soldiers',signalProviderKey='ZGTFDCT4LAAPJTBA')\n",
    "\n",
    "cancel_request.extId = 'test'\n",
    "bots_plataform.cancelOrder(cancel_request)"
   ]
  },
  {
   "cell_type": "code",
   "execution_count": null,
   "metadata": {},
   "outputs": [],
   "source": []
  }
 ],
 "metadata": {
  "interpreter": {
   "hash": "c6c314439b9d2e5872f5fdd5c9ade42ef96fbe2e16eff488c7405072c5be5826"
  },
  "kernelspec": {
   "display_name": "Python 3.8.10 ('.venv': venv)",
   "language": "python",
   "name": "python3"
  },
  "language_info": {
   "codemirror_mode": {
    "name": "ipython",
    "version": 3
   },
   "file_extension": ".py",
   "mimetype": "text/x-python",
   "name": "python",
   "nbconvert_exporter": "python",
   "pygments_lexer": "ipython3",
   "version": "3.8.10"
  },
  "orig_nbformat": 4
 },
 "nbformat": 4,
 "nbformat_minor": 2
}
